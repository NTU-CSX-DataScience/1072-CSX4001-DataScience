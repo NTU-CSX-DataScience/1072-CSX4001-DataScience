{
 "cells": [
  {
   "cell_type": "markdown",
   "metadata": {},
   "source": [
    "## simple train"
   ]
  },
  {
   "cell_type": "code",
   "execution_count": 2,
   "metadata": {},
   "outputs": [],
   "source": [
    "from gensim.models.word2vec import Word2Vec\n",
    "import numpy\n",
    "import jieba"
   ]
  },
  {
   "cell_type": "code",
   "execution_count": 3,
   "metadata": {},
   "outputs": [],
   "source": [
    "# read document\n",
    "data = []\n",
    "for i in range(1, 4):\n",
    "    with open('DATA/{}.txt'.format(i), 'r') as r:\n",
    "        data.append(r.read())"
   ]
  },
  {
   "cell_type": "code",
   "execution_count": 5,
   "metadata": {},
   "outputs": [],
   "source": [
    "# cut word for each document\n",
    "corpus = [jieba.lcut(d) for d in data]"
   ]
  },
  {
   "cell_type": "code",
   "execution_count": 6,
   "metadata": {},
   "outputs": [],
   "source": [
    "# modeling\n",
    "test_model = Word2Vec(corpus)\n",
    "# model.save('test_model')"
   ]
  },
  {
   "cell_type": "code",
   "execution_count": 7,
   "metadata": {},
   "outputs": [
    {
     "data": {
      "text/plain": [
       "dict_keys(['到', '「', '相關', '不', '代表', '因果', '」', '，', '但', '如何', '關', '係', '？', '\\n', ' ', '你', '我們', '的', '！', '讓', '是', '生物', '學及', '醫學', '中', '很多', '不是', 'X', 'Y', '機會', '一定', '會', '引起', '。', '9', '分析', '一個', '科學', '這個', '都', '可以', '說', '後', '又', '他們', '覺得', '了', '、', '政府', '數據', '我', '對', '所以', '其實', '知識', '方法', '比', '重要', '因為', '在', '之前', '有', '他', '使用', '而', '也', '於', '為', 'micafungin', '去', '病人', '很', '尿', '減少', '要', '出', '用', '相同', '不同', '干擾', '因子', '（', '）', '越', '高', '溺水', '人數', '多', '它們', '上', '人', '疫苗', '美國', '開始', 'MMR', '自閉', '症', '上升', '與', '發生', '香港', ')', '導致', '.', '被', '’', '如果', '希爾', '準則', '就', '大家', '即', '個', '最', '已經', '1', '似乎', '-', '更', 'Google', '高材生', '公司', '：', 'a', 'and', 'degrees', 'to', 'ability', ',', '“', 'the', 'people', '”', 'not', 'in', 'that', 'Bock', 'is', '從', '什麼', '發展', '把', '開放', '改變', '開放銀行', 'Open', '金融', '澳洲', '台灣', '銀行', '客戶', '資料', '消費者', 'API', '業者', 'FinTech'])"
      ]
     },
     "execution_count": 7,
     "metadata": {},
     "output_type": "execute_result"
    }
   ],
   "source": [
    "test_model.wv.vocab.keys()"
   ]
  },
  {
   "cell_type": "code",
   "execution_count": 8,
   "metadata": {},
   "outputs": [
    {
     "data": {
      "text/plain": [
       "array([-5.35114342e-03, -4.44303546e-03,  1.49969887e-02, -2.44466290e-02,\n",
       "       -2.56223371e-03, -4.42707203e-02, -3.58826369e-02, -1.44402524e-02,\n",
       "       -1.00480206e-02, -5.27140731e-03,  1.68326683e-02, -3.27845812e-02,\n",
       "       -2.54010353e-02, -2.25136932e-02,  2.99827922e-02, -3.29045877e-02,\n",
       "        1.47910574e-02, -1.31729264e-02, -6.50936365e-03, -1.57169141e-02,\n",
       "        2.62792204e-02, -3.67754065e-02,  5.55448793e-03,  1.93435159e-02,\n",
       "        3.13889161e-02, -1.88929234e-02,  7.79996999e-03,  2.47923806e-02,\n",
       "       -1.27231283e-02,  1.31104989e-02, -1.40614379e-02,  3.58887541e-04,\n",
       "       -2.00076792e-02, -3.63735110e-03, -2.74978280e-02,  2.01461148e-02,\n",
       "       -1.66210122e-02,  2.35468112e-02,  9.03359428e-03,  2.73867901e-02,\n",
       "       -5.92494383e-03, -2.77277958e-02,  9.58760921e-03, -1.55612705e-02,\n",
       "        3.06558404e-02,  1.33858668e-02,  1.30468151e-02,  2.92953458e-02,\n",
       "        6.88362401e-03,  2.25277785e-02,  8.56555905e-03, -1.63830966e-02,\n",
       "        1.02542238e-02,  5.37681067e-03, -3.46181765e-02,  1.27806133e-02,\n",
       "       -6.70344848e-03, -1.26237543e-02,  7.15503190e-03, -1.45791499e-02,\n",
       "       -1.06075155e-02,  1.10557387e-02,  2.77277865e-02, -1.52031835e-02,\n",
       "        1.64837926e-03, -1.42279128e-02,  2.32100654e-02,  6.38358947e-03,\n",
       "       -2.01846585e-02,  4.55749594e-03, -1.02329943e-02,  2.00535748e-02,\n",
       "        4.18331055e-03, -1.36635676e-02,  1.52762150e-02,  3.08949500e-03,\n",
       "        3.00923511e-02,  2.18511764e-02,  1.69377755e-02,  1.94101948e-02,\n",
       "        5.05296886e-03, -1.24362316e-02,  4.62296046e-03,  1.73655860e-02,\n",
       "       -2.89474774e-05,  3.56012657e-02, -2.19083088e-03, -3.68466191e-02,\n",
       "       -7.39103928e-03, -9.14225634e-03, -3.66114862e-02, -4.42661010e-02,\n",
       "        2.98857945e-03,  3.32389469e-03, -4.83380407e-02, -2.76738824e-03,\n",
       "       -1.50135681e-02, -2.79715518e-04,  1.57831667e-03,  2.50644051e-02],\n",
       "      dtype=float32)"
      ]
     },
     "execution_count": 8,
     "metadata": {},
     "output_type": "execute_result"
    }
   ],
   "source": [
    "test_model.wv['醫學']"
   ]
  },
  {
   "cell_type": "code",
   "execution_count": 9,
   "metadata": {},
   "outputs": [
    {
     "data": {
      "text/plain": [
       "0.16357343"
      ]
     },
     "execution_count": 9,
     "metadata": {},
     "output_type": "execute_result"
    }
   ],
   "source": [
    "numpy.linalg.norm(test_model.wv['醫學'] - test_model.wv['銀行'])"
   ]
  },
  {
   "cell_type": "code",
   "execution_count": 10,
   "metadata": {},
   "outputs": [
    {
     "name": "stderr",
     "output_type": "stream",
     "text": [
      "C:\\Users\\CM\\Anaconda3\\lib\\site-packages\\ipykernel_launcher.py:1: DeprecationWarning: Call to deprecated `similarity` (Method will be removed in 4.0.0, use self.wv.similarity() instead).\n",
      "  \"\"\"Entry point for launching an IPython kernel.\n"
     ]
    },
    {
     "data": {
      "text/plain": [
       "0.986714"
      ]
     },
     "execution_count": 10,
     "metadata": {},
     "output_type": "execute_result"
    }
   ],
   "source": [
    "test_model.similarity('醫學', '銀行')"
   ]
  },
  {
   "cell_type": "markdown",
   "metadata": {},
   "source": [
    "## Harry Potter"
   ]
  },
  {
   "cell_type": "code",
   "execution_count": 11,
   "metadata": {},
   "outputs": [],
   "source": [
    "import logging\n",
    "import numpy\n",
    "from stop_words import get_stop_words\n",
    "import re\n",
    "logging.basicConfig(format='%(asctime)s : %(levelname)s : %(message)s', level=logging.INFO)"
   ]
  },
  {
   "cell_type": "code",
   "execution_count": 16,
   "metadata": {},
   "outputs": [],
   "source": [
    "with open(\"harrypotter.txt\", 'r') as r:\n",
    "    harry = r.read()"
   ]
  },
  {
   "cell_type": "code",
   "execution_count": 18,
   "metadata": {},
   "outputs": [
    {
     "name": "stderr",
     "output_type": "stream",
     "text": [
      "2019-04-25 12:28:42,879 : INFO : loading Word2Vec object from model\n",
      "2019-04-25 12:28:42,880 : WARNING : this function is deprecated, use smart_open.open instead\n",
      "2019-04-25 12:28:43,166 : INFO : loading wv recursively from model.wv.* with mmap=None\n",
      "2019-04-25 12:28:43,166 : INFO : setting ignored attribute cum_table to None\n",
      "2019-04-25 12:28:43,166 : INFO : Model saved using code from earlier Gensim Version. Re-loading old model in a compatible way.\n",
      "2019-04-25 12:28:43,166 : INFO : loading Word2Vec object from model\n",
      "2019-04-25 12:28:43,166 : WARNING : this function is deprecated, use smart_open.open instead\n",
      "2019-04-25 12:28:43,370 : INFO : loading wv recursively from model.wv.* with mmap=None\n",
      "2019-04-25 12:28:43,370 : INFO : setting ignored attribute cum_table to None\n",
      "2019-04-25 12:28:43,370 : INFO : setting ignored attribute syn0norm to None\n",
      "2019-04-25 12:28:43,370 : INFO : loaded model\n"
     ]
    }
   ],
   "source": [
    "model = Word2Vec.load('model')"
   ]
  },
  {
   "cell_type": "code",
   "execution_count": 19,
   "metadata": {},
   "outputs": [],
   "source": [
    "stop_words = get_stop_words('en')\n",
    "\n",
    "h_mix = {\n",
    "        'g': ['brave', 'courageous', 'daring','clever','intelligent','fire','lion','red','gold','reckless','bravery', 'chivalry', 'courage','cleverness','leadership','hero','heroic','adventurous'],\n",
    "        's': ['cunning', 'ambitious', 'determined', 'clever','snake','water','antagonist','green','silver','ambition', 'determination', 'cleverness'],\n",
    "        'h': ['dedicated', 'patient', 'tolerant', 'loyal','humble','friendly','decent','earth','badger','yellow','black','dedication', 'patience', 'kindness', 'tolerance', 'loyalty'],\n",
    "        'r': ['intelligent' ,'wise' ,'creative', 'original', 'individual','arrogant','eagle','air','blue','brown','bronze','black','intelligence', 'wit', 'wisdom', 'creativity']\n",
    "}\n",
    "h = h_mix"
   ]
  },
  {
   "cell_type": "code",
   "execution_count": 22,
   "metadata": {},
   "outputs": [],
   "source": [
    "# remove stop word, punctuation, and transform to lowercase\n",
    "def text_pre_process(text):\n",
    "    stop_words = get_stop_words('en')\n",
    "    words = re.sub(r'[^\\w]', ' ', str(text)).lower().split()\n",
    "    valid_words = [word for word in words if word not in stop_words]\n",
    "    return valid_words"
   ]
  },
  {
   "cell_type": "code",
   "execution_count": 23,
   "metadata": {},
   "outputs": [],
   "source": [
    "# define distance\n",
    "def dist1(word, house):\n",
    "    mean = 0.0\n",
    "    n = 0\n",
    "    for attr in h[house]:\n",
    "        mean += numpy.linalg.norm(model.wv[attr] - model.wv[word])\n",
    "        n = n+1 #忘記這個 n 要幹嘛了\n",
    "    mean /= len(h[house])\n",
    "    return mean\n",
    "\n",
    "def dist2(word,house):\n",
    "    try:\n",
    "            tmp = model.wv[word]\n",
    "    except:\n",
    "        # print(word)\n",
    "        return 1000\n",
    "    return min( [numpy.linalg.norm(model.wv[attr] - tmp) for attr in h[house]] )"
   ]
  },
  {
   "cell_type": "code",
   "execution_count": 24,
   "metadata": {
    "scrolled": true
   },
   "outputs": [
    {
     "name": "stdout",
     "output_type": "stream",
     "text": [
      "distance 1\n",
      "g 5.775136762195164\n",
      "s 6.938896814982097\n",
      "h 6.272163406014442\n",
      "r 8.674353390932083\n",
      "\n",
      "distance 2\n",
      "g 3.0798986\n",
      "s 3.404738\n",
      "h 3.009806\n",
      "r 3.189788\n"
     ]
    }
   ],
   "source": [
    "word = \"kindly\"\n",
    "# word = \"brave\"\n",
    "\n",
    "\n",
    "print(\"distance 1\")\n",
    "for house in h:\n",
    "    print(house, dist1(word, house))\n",
    "    \n",
    "print(\"\\ndistance 2\")\n",
    "for house in h:\n",
    "    print(house, dist2(word, house))"
   ]
  },
  {
   "cell_type": "code",
   "execution_count": 25,
   "metadata": {},
   "outputs": [],
   "source": [
    "# Algorithm 1 total and mean\n",
    "def A1(words):\n",
    "    # print('Algorithm1')\n",
    "    total = { 'g': 0.0, 's': 0.0, 'h': 0.0, 'r': 0.0 }\n",
    "    for word in words:\n",
    "        try:\n",
    "            for house in h:\n",
    "                total[house] += dist1(word, house)\n",
    "        except:\n",
    "            continue\n",
    "\n",
    "    result1 = 'g'\n",
    "    for house in total:\n",
    "        if total[house] < total[result1]:\n",
    "            result1 = house\n",
    "    # print()\n",
    "    # print(total)\n",
    "    # print('result1:', result1)\n",
    "    return result1\n",
    "\n",
    "# Algorithm 2 \n",
    "def A2(words):\n",
    "    Min_thr=10\n",
    "    # print('Algorithm2')\n",
    "    valid_words = { 'g': [], 's': [], 'h': [], 'r': [] }\n",
    "    score = { 'g': 0, 's': 0, 'h': 0, 'r': 0 }\n",
    "    for word in words:\n",
    "        try:\n",
    "            if word == 'harry':\n",
    "                continue\n",
    "            flag = False\n",
    "            for house in h:\n",
    "                if flag == False:\n",
    "                    flag = True\n",
    "                    min_house = house\n",
    "                    min_dist = dist1(word, house)\n",
    "                else:\n",
    "                    tmp_dist = dist1(word, house)\n",
    "                    if tmp_dist < min_dist:\n",
    "                        min_house = house\n",
    "                        min_dist = tmp_dist\n",
    "            if min_dist < 5:\n",
    "                score[min_house] += 1\n",
    "                valid_words[min_house].append((word, min_dist))\n",
    "        except:\n",
    "            continue\n",
    "    # print('validwords',valid_words)\n",
    "\n",
    "    result2=judge(score,2)\n",
    "    # print()\n",
    "    # print(score)\n",
    "    # print('result2:', result2)\n",
    "    # print('Min_thr:',Min_thr)\n",
    "    return result2\n",
    "    \n",
    "#Algorithm3\n",
    "def A3(words):\n",
    "    nstdthr = 0.17\n",
    "    # print('Algorithm3')\n",
    "    distance = { 'g': 0, 's': 0, 'h': 0, 'r': 0 }\n",
    "    for word in words:\n",
    "        try:\n",
    "            tmpd=[]\n",
    "            tmpdis={ 'g': 0, 's': 0, 'h': 0, 'r': 0 }\n",
    "            mean=0\n",
    "            for house in h:\n",
    "                minn = dist2(word,house)\n",
    "                tmpd.append(minn)\n",
    "                # print(word,house,minn)\n",
    "                tmpdis[house]=minn\n",
    "                mean+=minn\n",
    "            mean/=4\n",
    "            nstd=numpy.std(tmpd)\n",
    "            if mean<7 and nstd >nstdthr:\n",
    "                # print(word,':::')\n",
    "                # print(tmpdis)\n",
    "                # print(nstd,'aaaaa')\n",
    "                for house in h:\n",
    "                    distance[house]+=tmpdis[house]\n",
    "        except:\n",
    "            print('uhhh in A3:',word)\n",
    "    result3=judge(distance,3)\n",
    "    return result3"
   ]
  },
  {
   "cell_type": "code",
   "execution_count": 26,
   "metadata": {},
   "outputs": [],
   "source": [
    "def judge(distance, mode):\n",
    "    result = 'g'\n",
    "    summ = sum(distance.values())\n",
    "    if mode==3:\n",
    "        min(distance, key=distance.get)\n",
    "    elif mode==2:\n",
    "        for house in points:\n",
    "            if points[house] > points[result]:\n",
    "                result = house\n",
    "                resultnum=points[house]\n",
    "                \n",
    "    if summ==0:\n",
    "        return 'jerr'#judge err\n",
    "    else:\n",
    "        return result"
   ]
  },
  {
   "cell_type": "code",
   "execution_count": 27,
   "metadata": {},
   "outputs": [],
   "source": [
    "def text2house(text):\n",
    "    if text=='':\n",
    "        return 'e' #empty\n",
    "    valid_words=text_pre_process(text)\n",
    "    house=A3(valid_words)\n",
    "    if house=='jerr':\n",
    "        print('your house is remained undecided, maybe your age is under 30')\n",
    "        return house\n",
    "    else:\n",
    "        houses = {\n",
    "                'g': 'gryffindor',\n",
    "                'h': 'hufflepuff',\n",
    "                'r': 'ravenclaw',\n",
    "                's': 'slytherin'\n",
    "            }\n",
    "        return houses[house]"
   ]
  },
  {
   "cell_type": "code",
   "execution_count": 28,
   "metadata": {},
   "outputs": [
    {
     "data": {
      "text/plain": [
       "'gryffindor'"
      ]
     },
     "execution_count": 28,
     "metadata": {},
     "output_type": "execute_result"
    }
   ],
   "source": [
    "text2house(harry)"
   ]
  },
  {
   "cell_type": "code",
   "execution_count": 29,
   "metadata": {},
   "outputs": [
    {
     "name": "stderr",
     "output_type": "stream",
     "text": [
      "2019-04-25 12:31:45,225 : INFO : precomputing L2-norms of word weight vectors\n"
     ]
    },
    {
     "data": {
      "text/plain": [
       "[('slytherin', 0.5084857940673828)]"
      ]
     },
     "execution_count": 29,
     "metadata": {},
     "output_type": "execute_result"
    }
   ],
   "source": [
    "model.wv.most_similar(positive=['malfoy', 'gryffindor'], negative=['harry'], topn=1)"
   ]
  }
 ],
 "metadata": {
  "kernelspec": {
   "display_name": "Python 3",
   "language": "python",
   "name": "python3"
  },
  "language_info": {
   "codemirror_mode": {
    "name": "ipython",
    "version": 3
   },
   "file_extension": ".py",
   "mimetype": "text/x-python",
   "name": "python",
   "nbconvert_exporter": "python",
   "pygments_lexer": "ipython3",
   "version": "3.7.1"
  }
 },
 "nbformat": 4,
 "nbformat_minor": 2
}
